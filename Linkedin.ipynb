{
 "cells": [
  {
   "cell_type": "markdown",
   "id": "cbefac39",
   "metadata": {},
   "source": [
    "Imports"
   ]
  },
  {
   "cell_type": "code",
   "execution_count": 95,
   "id": "428ab056",
   "metadata": {},
   "outputs": [],
   "source": [
    "from selenium import webdriver\n",
    "from selenium.webdriver.common.keys import Keys\n",
    "from selenium.webdriver.support import expected_conditions as EC\n",
    "from selenium.webdriver.common.by import By\n",
    "from selenium.webdriver.support.wait import WebDriverWait\n",
    "from selenium.webdriver.edge.service import Service\n",
    "from bs4 import BeautifulSoup\n",
    "import sqlite3\n",
    "import logging\n",
    "import time "
   ]
  },
  {
   "cell_type": "markdown",
   "id": "fe216224",
   "metadata": {},
   "source": [
    "Files"
   ]
  },
  {
   "cell_type": "code",
   "execution_count": 96,
   "id": "d93c5012",
   "metadata": {},
   "outputs": [],
   "source": [
    "ChromeDriver = \"C:/chromedriver.exe\"\n",
    "DB = \"Amin.db\"\n",
    "Log = \"Linkedin.log\"\n",
    "Username = \"Insert your USERNAME here\"\n",
    "Password = \"Insert your PASSWORD here\"\n",
    "URL = \"https://www.linkedin.com/login?fromSignIn=true&trk=guest_homepage-basic_nav-header-signin\"\n",
    "URL2 = \"https://www.linkedin.com/mynetwork/invite-connect/connections/\"\n",
    "URL3 = \"https://www.linkedin.com/in/amin-hs-608763233/\"\n"
   ]
  },
  {
   "cell_type": "markdown",
   "id": "7f3a4b51",
   "metadata": {},
   "source": [
    "Main Code"
   ]
  },
  {
   "cell_type": "code",
   "execution_count": 97,
   "id": "9dbf5afb",
   "metadata": {},
   "outputs": [],
   "source": [
    "def dump_data(data):\n",
    "    logging.info(\" *** Start dumping data to sqlite3  *** \")\n",
    "    con = sqlite3.connect('Amin.db')\n",
    "    cur = con.cursor()\n",
    "    cur.execute(\"\"\"CREATE TABLE people(\n",
    "                name text,\n",
    "                occupation text,\n",
    "                location text,\n",
    "                link text\n",
    "                )\"\"\")\n",
    "    for lst in range(data): # lst is a list of information for one person\n",
    "        try:\n",
    "            cur.execute(\"INSERT INTO people VALUES (?,?,?,?)\",(lst[0],lst[1],lst[2],lst[3]))\n",
    "            con.commit()\n",
    "        except:\n",
    "            logging.error(f'+++info of person:{lst[0]} had problem while dumpping it+++')\n",
    "    \n",
    "    con.close()        \n",
    "    mess = \"dummped all contacts info Successfully\"\n",
    "    print(mess)    \n",
    "    logging.info(mess)"
   ]
  },
  {
   "cell_type": "code",
   "execution_count": 98,
   "id": "8fa39db1",
   "metadata": {},
   "outputs": [],
   "source": [
    "def crawler(driver, links):\n",
    "    info = []\n",
    "    i = -1\n",
    "    for lk in links:\n",
    "        i+=1\n",
    "        try:\n",
    "            driver.get(lk)\n",
    "            time.sleep(5)\n",
    "            src = driver.page_source\n",
    "            tmp = extract_info(src,lk)\n",
    "            info.append(tmp)\n",
    "            logging.info(f'id:{i} Successfully logged user:{tmp[0]}\\n\\n')\n",
    "        except:\n",
    "            logging.error(f'id:{i} +++ Error +++ raised for first try for user:{tmp[3]}\\n\\n')\n",
    "            try:\n",
    "                driver = build_driver()\n",
    "                sing_in(driver)\n",
    "                driver.get(lk)\n",
    "                time.sleep(5)\n",
    "                src = driver.page_source\n",
    "                tmp = extract_info(src,lk)\n",
    "                info.append(tmp)\n",
    "                logging.info(f'id:{i} Successfully logged user:{tmp[0]}\\n\\n')\n",
    "            except:\n",
    "                logging.error(f'id:{i} +++++ second time Error ++++++ \\n\\n')\n",
    "                return -1\n",
    "            \n",
    "        \n",
    "    logging.info(\"SUCCESSFULLY LOGGED ALL USERS\")\n",
    "    return info"
   ]
  },
  {
   "cell_type": "code",
   "execution_count": 99,
   "id": "d1f4dab2",
   "metadata": {},
   "outputs": [],
   "source": [
    "def crawler(driver, links):\n",
    "    info = []\n",
    "    i = -1\n",
    "    for lk in links:\n",
    "        i+=1\n",
    "        try:\n",
    "            driver.get(lk)\n",
    "            time.sleep(5)\n",
    "            src = driver.page_source\n",
    "            tmp = extract_info(src,lk)\n",
    "            info.append(tmp)\n",
    "            logging.info(f'id:{i} Successfully logged user:{tmp[0]}\\n\\n')\n",
    "        except:\n",
    "            logging.error(f'id:{i} +++ Error +++ raised for first try for user:{tmp[3]}\\n\\n')\n",
    "            try:\n",
    "                driver = build_driver()\n",
    "                sing_in(driver)\n",
    "                driver.get(lk)\n",
    "                time.sleep(5)\n",
    "                src = driver.page_source\n",
    "                tmp = extract_info(src,lk)\n",
    "                info.append(tmp)\n",
    "                logging.info(f'id:{i} Successfully logged user:{tmp[0]}\\n\\n')\n",
    "            except:\n",
    "                logging.error(f'id:{i} +++++ second time Error ++++++ \\n\\n')\n",
    "                return -1\n",
    "            \n",
    "        \n",
    "    logging.info(\"SUCCESSFULLY LOGGED ALL USERS\")\n",
    "    return info"
   ]
  },
  {
   "cell_type": "code",
   "execution_count": 100,
   "id": "73bcfd22",
   "metadata": {},
   "outputs": [],
   "source": [
    "def extract_info(src,lk):\n",
    "    tmp = [\"\" for _ in range(0,4)]\n",
    "    tmp[3] = lk\n",
    "    soup = BeautifulSoup(src, \"html.parser\")\n",
    "    intro = soup.find('div', {'class': 'pv-text-details__left-panel'})\n",
    "    name_loc = intro.find(\"h1\")\n",
    "    name = name_loc.get_text().strip()\n",
    "    works_at_loc = intro.find(\"div\", {'class': 'text-body-medium'})\n",
    "    works_at = works_at_loc.get_text().strip()\n",
    "    intro2 = soup.find('div', {'class': 'pb2 pv-text-details__left-panel'})\n",
    "    location_loc = intro2.find_all(\"span\", {'class': 'text-body-small'})\n",
    "    location = location_loc[0].get_text().strip()\n",
    "    tmp[0],tmp[1],tmp[2] = name,works_at,location\n",
    "    return tmp"
   ]
  },
  {
   "cell_type": "code",
   "execution_count": 101,
   "id": "120e6b15",
   "metadata": {},
   "outputs": [],
   "source": [
    "def grab_links(driver):\n",
    "    sing_in(d)\n",
    "    driver.get(URL2)\n",
    "    time.sleep(30)\n",
    "    lnks=driver.find_elements_by_tag_name(\"a\")\n",
    "    connections_links = []\n",
    "    for lnk in lnks[8:210]: # out of this range is useless \n",
    "        connections_links.append(lnk.get_attribute('href'))\n",
    "    # remove dublicates\n",
    "    del connections_links[1::2]\n",
    "    connections_links.append(URL3)\n",
    "    return connections_links\n"
   ]
  },
  {
   "cell_type": "code",
   "execution_count": 102,
   "id": "c69edb44",
   "metadata": {},
   "outputs": [],
   "source": [
    "def sing_in(driver):\n",
    "    driver.get(URL)\n",
    "    time.sleep(5)\n",
    "    # sing in\n",
    "    username = driver.find_element_by_xpath(\"//input[@name='session_key']\")\n",
    "    password = driver.find_element_by_xpath(\"//input[@name='session_password']\")\n",
    "\n",
    "    username.send_keys(Username)\n",
    "    password.send_keys(Password)\n",
    "    time.sleep(5)\n",
    "    submit = driver.find_element_by_xpath(\"//button[@type='submit']\").click()\n",
    "    time.sleep(5)"
   ]
  },
  {
   "cell_type": "code",
   "execution_count": 103,
   "id": "c6880380",
   "metadata": {},
   "outputs": [],
   "source": [
    "def build_driver():\n",
    "    ser = Service(ChromeDriver)\n",
    "    op = webdriver.ChromeOptions()\n",
    "    driver = webdriver.Chrome(service=ser, options=op)\n",
    "    return driver"
   ]
  },
  {
   "cell_type": "markdown",
   "id": "257e793d",
   "metadata": {},
   "source": [
    "Site Selenium"
   ]
  },
  {
   "cell_type": "code",
   "execution_count": 104,
   "id": "4b0a8c81",
   "metadata": {},
   "outputs": [],
   "source": [
    "d = build_driver()"
   ]
  },
  {
   "cell_type": "code",
   "execution_count": 105,
   "id": "dfe722c5",
   "metadata": {},
   "outputs": [
    {
     "name": "stderr",
     "output_type": "stream",
     "text": [
      "C:\\Users\\smah1\\AppData\\Local\\Temp\\ipykernel_17332\\3871760492.py:5: DeprecationWarning: find_element_by_xpath is deprecated. Please use find_element(by=By.XPATH, value=xpath) instead\n",
      "  username = driver.find_element_by_xpath(\"//input[@name='session_key']\")\n",
      "C:\\Users\\smah1\\AppData\\Local\\Temp\\ipykernel_17332\\3871760492.py:6: DeprecationWarning: find_element_by_xpath is deprecated. Please use find_element(by=By.XPATH, value=xpath) instead\n",
      "  password = driver.find_element_by_xpath(\"//input[@name='session_password']\")\n",
      "C:\\Users\\smah1\\AppData\\Local\\Temp\\ipykernel_17332\\3871760492.py:11: DeprecationWarning: find_element_by_xpath is deprecated. Please use find_element(by=By.XPATH, value=xpath) instead\n",
      "  submit = driver.find_element_by_xpath(\"//button[@type='submit']\").click()\n",
      "C:\\Users\\smah1\\AppData\\Local\\Temp\\ipykernel_17332\\1936963908.py:5: DeprecationWarning: find_elements_by_tag_name is deprecated. Please use find_elements(by=By.TAG_NAME, value=name) instead\n",
      "  lnks=driver.find_elements_by_tag_name(\"a\")\n"
     ]
    }
   ],
   "source": [
    "connections_links = grab_links(d)"
   ]
  },
  {
   "cell_type": "code",
   "execution_count": 106,
   "id": "1df5282e",
   "metadata": {},
   "outputs": [
    {
     "data": {
      "text/plain": [
       "3"
      ]
     },
     "execution_count": 106,
     "metadata": {},
     "output_type": "execute_result"
    }
   ],
   "source": [
    "len(connections_links)"
   ]
  },
  {
   "cell_type": "code",
   "execution_count": 107,
   "id": "f3e77ad6",
   "metadata": {},
   "outputs": [],
   "source": [
    "#initializing logs file\n",
    "logging.basicConfig(filename='linkedin.log',level=logging.DEBUG,\n",
    "                    format='%(asctime)s:%(levelname)s:%(message)s')"
   ]
  },
  {
   "cell_type": "code",
   "execution_count": 108,
   "id": "f8f3fb9d",
   "metadata": {},
   "outputs": [
    {
     "name": "stderr",
     "output_type": "stream",
     "text": [
      "C:\\Users\\smah1\\AppData\\Local\\Temp\\ipykernel_17332\\3871760492.py:5: DeprecationWarning: find_element_by_xpath is deprecated. Please use find_element(by=By.XPATH, value=xpath) instead\n",
      "  username = driver.find_element_by_xpath(\"//input[@name='session_key']\")\n",
      "C:\\Users\\smah1\\AppData\\Local\\Temp\\ipykernel_17332\\3871760492.py:6: DeprecationWarning: find_element_by_xpath is deprecated. Please use find_element(by=By.XPATH, value=xpath) instead\n",
      "  password = driver.find_element_by_xpath(\"//input[@name='session_password']\")\n",
      "C:\\Users\\smah1\\AppData\\Local\\Temp\\ipykernel_17332\\3871760492.py:11: DeprecationWarning: find_element_by_xpath is deprecated. Please use find_element(by=By.XPATH, value=xpath) instead\n",
      "  submit = driver.find_element_by_xpath(\"//button[@type='submit']\").click()\n"
     ]
    }
   ],
   "source": [
    "info = crawler(driver= d, links =connections_links)\n"
   ]
  },
  {
   "cell_type": "code",
   "execution_count": 110,
   "id": "343c1d46",
   "metadata": {},
   "outputs": [
    {
     "name": "stdout",
     "output_type": "stream",
     "text": [
      "dummped all contacts info Successfully\n"
     ]
    }
   ],
   "source": [
    "dump_data(info)"
   ]
  }
 ],
 "metadata": {
  "kernelspec": {
   "display_name": "Python 3 (ipykernel)",
   "language": "python",
   "name": "python3"
  },
  "language_info": {
   "codemirror_mode": {
    "name": "ipython",
    "version": 3
   },
   "file_extension": ".py",
   "mimetype": "text/x-python",
   "name": "python",
   "nbconvert_exporter": "python",
   "pygments_lexer": "ipython3",
   "version": "3.9.5"
  }
 },
 "nbformat": 4,
 "nbformat_minor": 5
}
